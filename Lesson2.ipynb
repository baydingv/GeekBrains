{
 "cells": [
  {
   "cell_type": "markdown",
   "metadata": {},
   "source": [
    "# T2 множества"
   ]
  },
  {
   "cell_type": "code",
   "execution_count": 1,
   "metadata": {},
   "outputs": [
    {
     "name": "stdout",
     "output_type": "stream",
     "text": [
      "a П b =  {1}\n",
      "b П c =  {2}\n",
      "c П a =  {0}\n",
      "a U b =  {0, 1, 2}\n",
      "b U c =  {0, 1, 2}\n",
      "c U a =  {0, 1, 2}\n",
      "a \\ b =  {0}\n",
      "a \\ c =  {1}\n",
      "b \\ c =  {1}\n",
      "b \\ a =  {2}\n",
      "c \\ a =  {2}\n",
      "c \\ b =  {0}\n",
      "a ^ b =  {0, 2}\n",
      "a ^ c =  {1, 2}\n",
      "b ^ c =  {0, 1}\n",
      "b ^ a =  {0, 2}\n",
      "c ^ a =  {1, 2}\n",
      "c ^ b =  {0, 1}\n"
     ]
    }
   ],
   "source": [
    "#2. \n",
    "a = {0,1}\n",
    "b = {1,2}\n",
    "c = {2,0}\n",
    "print('a П b = ',a & b)\n",
    "print('b П c = ',b & c)\n",
    "print('c П a = ',c & a)\n",
    "\n",
    "print('a U b = ',a | b)\n",
    "print('b U c = ',b | c)\n",
    "print('c U a = ',c | a)\n",
    "\n",
    "print('a \\ b = ',a - b)\n",
    "print('a \\ c = ',a - c)\n",
    "print('b \\ c = ',b - c)\n",
    "print('b \\ a = ',b - a)\n",
    "print('c \\ a = ',c - a)\n",
    "print('c \\ b = ',c - b)\n",
    "\n",
    "print('a ^ b = ',a ^ b)\n",
    "print('a ^ c = ',a ^ c)\n",
    "print('b ^ c = ',b ^ c)\n",
    "print('b ^ a = ',b ^ a)\n",
    "print('c ^ a = ',c ^ a)\n",
    "print('c ^ b = ',c ^ b)\n"
   ]
  },
  {
   "cell_type": "code",
   "execution_count": 10,
   "metadata": {},
   "outputs": [
    {
     "name": "stdout",
     "output_type": "stream",
     "text": [
      "9252 2.719353648570634095912830179 -9.9995728894004409683E-8\n"
     ]
    }
   ],
   "source": [
    "#3.3\n",
    "from decimal import *\n",
    "def nf(i):\n",
    "    dRet = Decimal(1.0)\n",
    "    for j in range(1,i):\n",
    "        dRet *= Decimal(j) \n",
    "    return dRet\n",
    "\n",
    "n,old_res = 2,1\n",
    "while True:\n",
    "    dRes = n*(Decimal(1.0)*nf(n))**Decimal(-1.0/n)\n",
    "    dev = Decimal(dRes - old_res)\n",
    "    old_res = dRes\n",
    "#    print(n, dRes, dev)\n",
    "    if abs(dev)<1.0e-7: break\n",
    "    n = n + 1\n",
    "print(n,dRes,dev)"
   ]
  },
  {
   "cell_type": "code",
   "execution_count": 29,
   "metadata": {},
   "outputs": [
    {
     "data": {
      "text/plain": [
       "2.718281828459045"
      ]
     },
     "execution_count": 29,
     "metadata": {},
     "output_type": "execute_result"
    }
   ],
   "source": [
    "import math\n",
    "math.e"
   ]
  },
  {
   "cell_type": "code",
   "execution_count": null,
   "metadata": {},
   "outputs": [],
   "source": []
  }
 ],
 "metadata": {
  "kernelspec": {
   "display_name": "Python 3",
   "language": "python",
   "name": "python3"
  },
  "language_info": {
   "codemirror_mode": {
    "name": "ipython",
    "version": 3
   },
   "file_extension": ".py",
   "mimetype": "text/x-python",
   "name": "python",
   "nbconvert_exporter": "python",
   "pygments_lexer": "ipython3",
   "version": "3.7.3"
  }
 },
 "nbformat": 4,
 "nbformat_minor": 2
}
